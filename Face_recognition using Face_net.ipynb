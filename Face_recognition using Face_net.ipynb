{
 "cells": [
  {
   "cell_type": "code",
   "execution_count": 2,
   "id": "fb96479a-4109-447e-b7b6-f619d7d68e4d",
   "metadata": {},
   "outputs": [],
   "source": [
    "import cv2\n",
    "import numpy as np\n",
    "from keras_facenet import FaceNet\n",
    "import face_recognition\n",
    "from scipy.spatial.distance import cosine"
   ]
  },
  {
   "cell_type": "markdown",
   "id": "27ad632b-bf68-4ad6-9496-5eaaee437f6c",
   "metadata": {},
   "source": [
    "# Initialize FaceNet"
   ]
  },
  {
   "cell_type": "code",
   "execution_count": 3,
   "id": "a8928789-1c60-42cf-9a52-bd6c38930d18",
   "metadata": {},
   "outputs": [
    {
     "name": "stdout",
     "output_type": "stream",
     "text": [
      "WARNING:tensorflow:From D:\\Miniconda\\envs\\Smart_Vision\\Lib\\site-packages\\keras\\src\\backend\\tensorflow\\core.py:216: The name tf.placeholder is deprecated. Please use tf.compat.v1.placeholder instead.\n",
      "\n"
     ]
    }
   ],
   "source": [
    "embedder = FaceNet()\n",
    "\n",
    "def get_face_embedding(image):\n",
    "    face_locations = face_recognition.face_locations(image)\n",
    "    if len(face_locations) == 0:\n",
    "        return None, None\n",
    "\n",
    "    # Take first face\n",
    "    top, right, bottom, left = face_locations[0]\n",
    "    face = image[top:bottom, left:right]\n",
    "    face_resized = cv2.resize(face, (160, 160))\n",
    "    face_rgb = cv2.cvtColor(face_resized, cv2.COLOR_BGR2RGB)\n",
    "    embedding = embedder.embeddings([face_rgb])[0]\n",
    "    return embedding, (top, right, bottom, left)\n",
    "\n",
    "def compare_embeddings(embedding1, embedding2, threshold=0.5):\n",
    "    distance = cosine(embedding1, embedding2)\n",
    "    return distance < threshold, distance\n"
   ]
  },
  {
   "cell_type": "markdown",
   "id": "a8706312-821d-4c31-a6fa-2d03a0cee7d6",
   "metadata": {},
   "source": [
    "# Load and embed the reference face"
   ]
  },
  {
   "cell_type": "code",
   "execution_count": 4,
   "id": "0c666777-5f0b-4616-9f6a-91edca65f269",
   "metadata": {},
   "outputs": [
    {
     "ename": "TypeError",
     "evalue": "__call__(): incompatible function arguments. The following argument types are supported:\n    1. (self: _dlib_pybind11.fhog_object_detector, image: numpy.ndarray, upsample_num_times: int = 0) -> _dlib_pybind11.rectangles\n\nInvoked with: <_dlib_pybind11.fhog_object_detector object at 0x000001BEBB4CCD70>, None, 1",
     "output_type": "error",
     "traceback": [
      "\u001b[31m---------------------------------------------------------------------------\u001b[39m",
      "\u001b[31mTypeError\u001b[39m                                 Traceback (most recent call last)",
      "\u001b[36mCell\u001b[39m\u001b[36m \u001b[39m\u001b[32mIn[4]\u001b[39m\u001b[32m, line 2\u001b[39m\n\u001b[32m      1\u001b[39m reference_image = cv2.imread(\u001b[33m\"\u001b[39m\u001b[33mreference_person.jpg\u001b[39m\u001b[33m\"\u001b[39m)\n\u001b[32m----> \u001b[39m\u001b[32m2\u001b[39m ref_embedding, _ = \u001b[43mget_face_embedding\u001b[49m\u001b[43m(\u001b[49m\u001b[43mreference_image\u001b[49m\u001b[43m)\u001b[49m\n\u001b[32m      3\u001b[39m \u001b[38;5;28;01mif\u001b[39;00m ref_embedding \u001b[38;5;129;01mis\u001b[39;00m \u001b[38;5;28;01mNone\u001b[39;00m:\n\u001b[32m      4\u001b[39m     \u001b[38;5;28mprint\u001b[39m(\u001b[33m\"\u001b[39m\u001b[33m❌ No face found in reference image. Exiting.\u001b[39m\u001b[33m\"\u001b[39m)\n",
      "\u001b[36mCell\u001b[39m\u001b[36m \u001b[39m\u001b[32mIn[3]\u001b[39m\u001b[32m, line 4\u001b[39m, in \u001b[36mget_face_embedding\u001b[39m\u001b[34m(image)\u001b[39m\n\u001b[32m      3\u001b[39m \u001b[38;5;28;01mdef\u001b[39;00m\u001b[38;5;250m \u001b[39m\u001b[34mget_face_embedding\u001b[39m(image):\n\u001b[32m----> \u001b[39m\u001b[32m4\u001b[39m     face_locations = \u001b[43mface_recognition\u001b[49m\u001b[43m.\u001b[49m\u001b[43mface_locations\u001b[49m\u001b[43m(\u001b[49m\u001b[43mimage\u001b[49m\u001b[43m)\u001b[49m\n\u001b[32m      5\u001b[39m     \u001b[38;5;28;01mif\u001b[39;00m \u001b[38;5;28mlen\u001b[39m(face_locations) == \u001b[32m0\u001b[39m:\n\u001b[32m      6\u001b[39m         \u001b[38;5;28;01mreturn\u001b[39;00m \u001b[38;5;28;01mNone\u001b[39;00m, \u001b[38;5;28;01mNone\u001b[39;00m\n",
      "\u001b[36mFile \u001b[39m\u001b[32mD:\\Miniconda\\envs\\Smart_Vision\\Lib\\site-packages\\face_recognition\\api.py:121\u001b[39m, in \u001b[36mface_locations\u001b[39m\u001b[34m(img, number_of_times_to_upsample, model)\u001b[39m\n\u001b[32m    119\u001b[39m     \u001b[38;5;28;01mreturn\u001b[39;00m [_trim_css_to_bounds(_rect_to_css(face.rect), img.shape) \u001b[38;5;28;01mfor\u001b[39;00m face \u001b[38;5;129;01min\u001b[39;00m _raw_face_locations(img, number_of_times_to_upsample, \u001b[33m\"\u001b[39m\u001b[33mcnn\u001b[39m\u001b[33m\"\u001b[39m)]\n\u001b[32m    120\u001b[39m \u001b[38;5;28;01melse\u001b[39;00m:\n\u001b[32m--> \u001b[39m\u001b[32m121\u001b[39m     \u001b[38;5;28;01mreturn\u001b[39;00m [_trim_css_to_bounds(_rect_to_css(face), img.shape) \u001b[38;5;28;01mfor\u001b[39;00m face \u001b[38;5;129;01min\u001b[39;00m \u001b[43m_raw_face_locations\u001b[49m\u001b[43m(\u001b[49m\u001b[43mimg\u001b[49m\u001b[43m,\u001b[49m\u001b[43m \u001b[49m\u001b[43mnumber_of_times_to_upsample\u001b[49m\u001b[43m,\u001b[49m\u001b[43m \u001b[49m\u001b[43mmodel\u001b[49m\u001b[43m)\u001b[49m]\n",
      "\u001b[36mFile \u001b[39m\u001b[32mD:\\Miniconda\\envs\\Smart_Vision\\Lib\\site-packages\\face_recognition\\api.py:105\u001b[39m, in \u001b[36m_raw_face_locations\u001b[39m\u001b[34m(img, number_of_times_to_upsample, model)\u001b[39m\n\u001b[32m    103\u001b[39m     \u001b[38;5;28;01mreturn\u001b[39;00m cnn_face_detector(img, number_of_times_to_upsample)\n\u001b[32m    104\u001b[39m \u001b[38;5;28;01melse\u001b[39;00m:\n\u001b[32m--> \u001b[39m\u001b[32m105\u001b[39m     \u001b[38;5;28;01mreturn\u001b[39;00m \u001b[43mface_detector\u001b[49m\u001b[43m(\u001b[49m\u001b[43mimg\u001b[49m\u001b[43m,\u001b[49m\u001b[43m \u001b[49m\u001b[43mnumber_of_times_to_upsample\u001b[49m\u001b[43m)\u001b[49m\n",
      "\u001b[31mTypeError\u001b[39m: __call__(): incompatible function arguments. The following argument types are supported:\n    1. (self: _dlib_pybind11.fhog_object_detector, image: numpy.ndarray, upsample_num_times: int = 0) -> _dlib_pybind11.rectangles\n\nInvoked with: <_dlib_pybind11.fhog_object_detector object at 0x000001BEBB4CCD70>, None, 1"
     ]
    }
   ],
   "source": [
    "reference_image = cv2.imread(\"reference_person.jpg\")\n",
    "ref_embedding, _ = get_face_embedding(reference_image)\n",
    "if ref_embedding is None:\n",
    "    print(\"❌ No face found in reference image. Exiting.\")\n",
    "    exit()\n"
   ]
  },
  {
   "cell_type": "markdown",
   "id": "bf939a3e-e79d-4655-a3f4-2cb16d79782e",
   "metadata": {},
   "source": [
    "# Start webcam"
   ]
  },
  {
   "cell_type": "code",
   "execution_count": null,
   "id": "2a0c45ac-b380-4339-bb1e-1a4301f210e6",
   "metadata": {},
   "outputs": [],
   "source": [
    "cap = cv2.VideoCapture(0)\n",
    "print(\"🚀 Starting webcam. Press 'q' to exit.\")\n",
    "\n",
    "while True:\n",
    "    ret, frame = cap.read()\n",
    "    if not ret:\n",
    "        break\n",
    "\n",
    "    embedding, face_coords = get_face_embedding(frame)\n",
    "\n",
    "    if embedding is not None:\n",
    "        match, distance = compare_embeddings(ref_embedding, embedding)\n",
    "        label = f\"Match ({distance:.2f})\" if match else f\"No Match ({distance:.2f})\"\n",
    "        color = (0, 255, 0) if match else (0, 0, 255)\n",
    "        top, right, bottom, left = face_coords\n",
    "        cv2.rectangle(frame, (left, top), (right, bottom), color, 2)\n",
    "        cv2.putText(frame, label, (left, top - 10), cv2.FONT_HERSHEY_SIMPLEX, 0.8, color, 2)\n",
    "    else:\n",
    "        cv2.putText(frame, \"No Face Detected\", (30, 30), cv2.FONT_HERSHEY_SIMPLEX, 0.8, (0, 0, 255), 2)\n",
    "\n",
    "    cv2.imshow(\"Live Face Recognition\", frame)\n",
    "\n",
    "    if cv2.waitKey(1) & 0xFF == ord('q'):\n",
    "        break\n",
    "\n",
    "cap.release()\n",
    "cv2.destroyAllWindows()"
   ]
  }
 ],
 "metadata": {
  "kernelspec": {
   "display_name": "Python (Smart_Vision)",
   "language": "python",
   "name": "smart_vision"
  },
  "language_info": {
   "codemirror_mode": {
    "name": "ipython",
    "version": 3
   },
   "file_extension": ".py",
   "mimetype": "text/x-python",
   "name": "python",
   "nbconvert_exporter": "python",
   "pygments_lexer": "ipython3",
   "version": "3.12.8"
  }
 },
 "nbformat": 4,
 "nbformat_minor": 5
}
